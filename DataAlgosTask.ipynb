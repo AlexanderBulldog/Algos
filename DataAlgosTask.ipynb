{
 "cells": [
  {
   "cell_type": "markdown",
   "metadata": {},
   "source": [
    "Задачи представленные в данном блокноте имеют следующую логику - имеется несколько прототипов решения, начиная просто с концептуальных алгоритмов, требуемых в задаче, заканчивая полноценным решением, со всеми необходимыми проверками.\n",
    "Все задачи проходят тесты на яндекс контесте"
   ]
  },
  {
   "cell_type": "code",
   "execution_count": null,
   "metadata": {},
   "outputs": [],
   "source": [
    "from math import *"
   ]
  },
  {
   "cell_type": "markdown",
   "metadata": {},
   "source": [
    "Задание 1. Треугольник с 3 входными данными"
   ]
  },
  {
   "cell_type": "code",
   "execution_count": 9,
   "metadata": {},
   "outputs": [
    {
     "name": "stdout",
     "output_type": "stream",
     "text": [
      "Число должно быть целым\n",
      "YES\n"
     ]
    }
   ],
   "source": [
    "a, b, c = 5, 2, 3\n",
    "if a + b > c and a + c > b and b + c > a:\n",
    "    print ('YES')\n",
    "else:\n",
    "    print ('NO')"
   ]
  },
  {
   "cell_type": "code",
   "execution_count": 24,
   "metadata": {},
   "outputs": [
    {
     "data": {
      "text/plain": [
       "'YES'"
      ]
     },
     "execution_count": 24,
     "metadata": {},
     "output_type": "execute_result"
    }
   ],
   "source": [
    "def can_form_triangle(a, b, c):\n",
    "    if not (isinstance(a, int) and isinstance(b, int) and isinstance(c, int)):\n",
    "        return \"Неверный ввод: значение должно быть целочисленным\"\n",
    "    if a <= 0 or b <= 0 or c <= 0:\n",
    "        return \"NO\"\n",
    "    return 'YES' if a + b > c and a + c > b and b + c > a else \"NO\"\n",
    "\n",
    "can_form_triangle(3, 4, 6)"
   ]
  },
  {
   "cell_type": "markdown",
   "metadata": {},
   "source": [
    "Задание 2. Уравнение с корнем"
   ]
  },
  {
   "cell_type": "code",
   "execution_count": 26,
   "metadata": {},
   "outputs": [
    {
     "name": "stdout",
     "output_type": "stream",
     "text": [
      "0.0\n"
     ]
    }
   ],
   "source": [
    "a,b,c = 1, 0, 0\n",
    "x = (c**2 - b)/a\n",
    "print(x)"
   ]
  },
  {
   "cell_type": "code",
   "execution_count": 31,
   "metadata": {},
   "outputs": [
    {
     "name": "stdout",
     "output_type": "stream",
     "text": [
      "Нет решений\n"
     ]
    }
   ],
   "source": [
    "def equation_solve (a,b,c):\n",
    "    if not (isinstance(a, int) and isinstance(b, int) and isinstance(c, int)):\n",
    "        return \"Числа не целые\"\n",
    "    if c < 0 or (b < 0 and a <= 0):\n",
    "        return \"Нет решений\"\n",
    "    x = (c**2 - b)/a\n",
    "    if x.is_integer():\n",
    "        return x\n",
    "    else:\n",
    "        return \"Нет целочисленных решений\"\n",
    "\n",
    "print(equation_solve (1,2,-3))"
   ]
  },
  {
   "cell_type": "code",
   "execution_count": 3,
   "metadata": {},
   "outputs": [
    {
     "name": "stdout",
     "output_type": "stream",
     "text": [
      "0\n"
     ]
    }
   ],
   "source": [
    "a,b,c = -1,1,1\n",
    "\n",
    "def equation_solve (a,b,c):\n",
    "    if c < 0 or (a == 0 and b != c**2):\n",
    "        return \"NO SOLUTION\"\n",
    "    elif (a == 0 and b == c**2) or a == b == c == 0:\n",
    "        return \"MANY SOLUTIONS\"\n",
    "    else:\n",
    "        x = (c**2 - b)/a\n",
    "        if x.is_integer():\n",
    "            return int(x)\n",
    "        else:\n",
    "            return \"NO SOLUTION\"\n",
    "   \n",
    "\n",
    "print(equation_solve (a,b,c))"
   ]
  },
  {
   "cell_type": "markdown",
   "metadata": {},
   "source": [
    "Задание 4. Сплавы"
   ]
  },
  {
   "cell_type": "code",
   "execution_count": 5,
   "metadata": {},
   "outputs": [
    {
     "name": "stdout",
     "output_type": "stream",
     "text": [
      "5\n"
     ]
    }
   ],
   "source": [
    "N, K, M = 100, 20, 30\n",
    "semiparts = N//K\n",
    "restN = N%K\n",
    "parts = semiparts//M\n",
    "restM = semiparts%M\n",
    "rest = restM + restN\n",
    "print(rest)"
   ]
  },
  {
   "cell_type": "code",
   "execution_count": 17,
   "metadata": {},
   "outputs": [
    {
     "data": {
      "text/plain": [
       "2"
      ]
     },
     "execution_count": 17,
     "metadata": {},
     "output_type": "execute_result"
    }
   ],
   "source": [
    "def calculate_total_parts_corrected_v2(N, K, M):\n",
    "    total_parts = 0\n",
    "    while N >= K:\n",
    "        blanks = N // K\n",
    "        parts_per_blank = K // M\n",
    "        total_parts += blanks * parts_per_blank\n",
    "        N = N % K + (blanks * K) % M\n",
    "        if N < K:\n",
    "            break\n",
    "    return total_parts\n",
    "calculate_total_parts_corrected_v2(13, 5, 3)\n"
   ]
  },
  {
   "cell_type": "code",
   "execution_count": 22,
   "metadata": {},
   "outputs": [
    {
     "name": "stdout",
     "output_type": "stream",
     "text": [
      "4\n"
     ]
    }
   ],
   "source": [
    "def is_valid_input(value): #Функция проверки входных данных\n",
    "    if not isinstance(value, int):\n",
    "        return False\n",
    "    if value < 0 or value > 200:\n",
    "        return False\n",
    "    return True\n",
    "\n",
    "def parts_calc(N, K, M):  # Основная функция\n",
    "    if not all(is_valid_input(x) for x in [N, K, M]):\n",
    "        return \"Ошибка: входные данные должны быть целыми числами от 0 до 200.\"\n",
    "    total_parts = 0\n",
    "    if M <= K:\n",
    "        while N >= K:\n",
    "            blanks_made = N // K\n",
    "            remainder_after_blanks = N % K\n",
    "            parts_per_blank = K // M\n",
    "            remainder_after_parts = K % M\n",
    "            total_parts += blanks_made * parts_per_blank\n",
    "            N = remainder_after_blanks + (remainder_after_parts * blanks_made) if remainder_after_blanks + (remainder_after_parts * blanks_made) >= K else remainder_after_blanks\n",
    "\n",
    "    return total_parts\n",
    "\n",
    "print (parts_calc(14, 5, 3))\n"
   ]
  },
  {
   "cell_type": "markdown",
   "metadata": {},
   "source": [
    "Задача 5. Узник замка Иф"
   ]
  },
  {
   "cell_type": "code",
   "execution_count": 5,
   "metadata": {},
   "outputs": [
    {
     "data": {
      "text/plain": [
       "'YES'"
      ]
     },
     "execution_count": 5,
     "metadata": {},
     "output_type": "execute_result"
    }
   ],
   "source": [
    "def brick_size(A, B, C, D, E):\n",
    "\n",
    "    #На входе в функцию: A, B, C -- размеры кирпича D, E -- размеры отверстия\n",
    "    \n",
    "    if not all(isinstance(x, (int, float)) and x > 0 for x in [A, B, C, D, E]):\n",
    "        raise ValueError(\"Все размеры должны быть положительными числами\")\n",
    "\n",
    "    combinations = [(A, B), (A, C), (B, A), (B, C), (C, A), (C, B)]  # Все возможные способы размещения кирпича относительно отверстия\n",
    "\n",
    "    for x, y in combinations:\n",
    "        if x <= D and y <= E:\n",
    "            return \"YES\"\n",
    "    return \"NO\"\n",
    "\n",
    "print(brick_size(1,1,1,1,1))"
   ]
  },
  {
   "cell_type": "markdown",
   "metadata": {},
   "source": [
    "Сложность такого алгоритма должна быть фиксированной, то есть O(1), поскольку мы имеем дело с фиксированным списком, который всегда содержит в себе 6 элементов."
   ]
  },
  {
   "cell_type": "markdown",
   "metadata": {},
   "source": [
    "Задача 6. Решение СЛАУ"
   ]
  },
  {
   "cell_type": "code",
   "execution_count": null,
   "metadata": {},
   "outputs": [],
   "source": []
  }
 ],
 "metadata": {
  "kernelspec": {
   "display_name": "Python 3",
   "language": "python",
   "name": "python3"
  },
  "language_info": {
   "codemirror_mode": {
    "name": "ipython",
    "version": 3
   },
   "file_extension": ".py",
   "mimetype": "text/x-python",
   "name": "python",
   "nbconvert_exporter": "python",
   "pygments_lexer": "ipython3",
   "version": "3.11.7"
  }
 },
 "nbformat": 4,
 "nbformat_minor": 2
}
