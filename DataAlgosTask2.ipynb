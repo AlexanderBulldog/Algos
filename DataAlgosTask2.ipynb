{
 "cells": [
  {
   "cell_type": "markdown",
   "metadata": {},
   "source": [
    "Задание 1. Реализация жадного алгоритма"
   ]
  },
  {
   "cell_type": "markdown",
   "metadata": {},
   "source": [
    "Задача-пример использования жадного алгоритма: Есть рюкзак с вместимостью 50 кг, есть склад с вещами разных весов и разной ценностью, нужно найти самый оптимальный способ наполнения рюкзака."
   ]
  },
  {
   "cell_type": "code",
   "execution_count": 21,
   "metadata": {},
   "outputs": [
    {
     "data": {
      "text/plain": [
       "160.0"
      ]
     },
     "execution_count": 21,
     "metadata": {},
     "output_type": "execute_result"
    }
   ],
   "source": [
    "def fractional_knapsack(capacity, items):\n",
    "    items.sort(key=lambda x: x['value'] / x['weight'], reverse=True)\n",
    "\n",
    "    total_value = 0\n",
    "    for item in items:\n",
    "        if capacity - item['weight'] >= 0:\n",
    "            capacity -= item['weight']\n",
    "            total_value += item['value']\n",
    "        else:\n",
    "            fraction = capacity / item['weight']\n",
    "            total_value += item['value'] * fraction\n",
    "            break\n",
    "\n",
    "    return total_value\n",
    "\n",
    "items = [{'weight': 10, 'value': 60},\n",
    "         {'weight': 20, 'value': 100},\n",
    "         {'weight': 30, 'value': 120}]\n",
    "capacity = 30\n",
    "\n",
    "\n",
    "fractional_knapsack(capacity, items)"
   ]
  },
  {
   "cell_type": "code",
   "execution_count": 22,
   "metadata": {},
   "outputs": [
    {
     "data": {
      "text/plain": [
       "1"
      ]
     },
     "execution_count": 22,
     "metadata": {},
     "output_type": "execute_result"
    }
   ],
   "source": [
    "def find_max_sum(intervals):\n",
    "    intervals.sort(key=lambda x: x[1])\n",
    "    max_sum = 0\n",
    "    last_end = float('-inf')\n",
    "    \n",
    "    for start, end in intervals:\n",
    "        if start > last_end:\n",
    "            max_sum += end - start\n",
    "            last_end = end\n",
    "\n",
    "    return max_sum\n",
    "\n",
    "intervals = [[2, 3], [2, 8], [0, 4], [7,15], [8, 11]]\n",
    "intervals= [[1,10], [1,2],[2,3]]\n",
    "find_max_sum(intervals)"
   ]
  },
  {
   "cell_type": "code",
   "execution_count": 23,
   "metadata": {},
   "outputs": [
    {
     "name": "stdout",
     "output_type": "stream",
     "text": [
      "[[1, 2]]\n"
     ]
    }
   ],
   "source": [
    "def select_meetings(meetings):\n",
    "    meetings.sort(key=lambda x: x[1])\n",
    "    selected_meetings = []\n",
    "    last_end_time = float('-inf')\n",
    "\n",
    "    for start, end in meetings:\n",
    "        if start > last_end_time:\n",
    "            selected_meetings.append([start, end])\n",
    "            last_end_time = end\n",
    "\n",
    "    return selected_meetings\n",
    "print(select_meetings(intervals))"
   ]
  },
  {
   "cell_type": "code",
   "execution_count": 24,
   "metadata": {},
   "outputs": [
    {
     "name": "stdout",
     "output_type": "stream",
     "text": [
      "Все тесты пройдены успешно!\n"
     ]
    }
   ],
   "source": [
    "def test_select_meetings():\n",
    "\n",
    "    # Успешный тест\n",
    "    meetings = [[1, 3], [2, 5], [4, 6], [7, 9]]\n",
    "    assert len(select_meetings(meetings)) > 0, \"Успешный тест провален\"\n",
    "\n",
    "    # Неуспешный тест - все встречи пересекаются\n",
    "    meetings = [[1, 4], [2, 5], [3, 6]]\n",
    "    assert len(select_meetings(meetings)) == 1, \"Неуспешный тест на пересечение провален\"\n",
    "\n",
    "    # Неуспешный тест - пустой список встреч\n",
    "    meetings = []\n",
    "    assert len(select_meetings(meetings)) == 0, \"Неуспешный тест на пустой список провален\"\n",
    "\n",
    "    # Тест с перекрывающимися встречами\n",
    "    meetings = [[1, 4], [3, 5], [5, 7], [6, 9]]\n",
    "    assert len(select_meetings(meetings)) >= 2, \"Тест на перекрывающиеся встречи провален\"\n",
    "\n",
    "    # Тест с одной встречей\n",
    "    meetings = [[1, 3]]\n",
    "    assert len(select_meetings(meetings)) == 1, \"Тест на одну встречу провален\"\n",
    "\n",
    "    # Тест с встречами, имеющими одинаковое время окончания\n",
    "    meetings = [[1, 5], [2, 5], [3, 5]]\n",
    "    assert len(select_meetings(meetings)) == 1, \"Тест на встречи с одинаковым окончанием провален\"\n",
    "\n",
    "    # Тест с полностью перекрывающимися встречами\n",
    "    meetings = [[1, 3], [2, 4], [3, 5]]\n",
    "    assert len(select_meetings(meetings)) == 1, \"Тест на полностью перекрывающиеся встречи провален\"\n",
    "\n",
    "    print(\"Все тесты пройдены успешно!\")\n",
    "\n",
    "# Вызов функции тестирования\n",
    "test_select_meetings()"
   ]
  },
  {
   "cell_type": "markdown",
   "metadata": {},
   "source": [
    "Задача 2. Камни"
   ]
  },
  {
   "cell_type": "code",
   "execution_count": 31,
   "metadata": {},
   "outputs": [
    {
     "data": {
      "text/plain": [
       "(True,\n",
       " [[False, True, False, True, False, True],\n",
       "  [True, True, True, True, True, True],\n",
       "  [False, True, False, True, False, True],\n",
       "  [True, True, True, True, True, True]])"
      ]
     },
     "execution_count": 31,
     "metadata": {},
     "output_type": "execute_result"
    }
   ],
   "source": [
    "def can_petya_win(n, m):\n",
    "    wl = [[False] * (m + 1) for _ in range(n + 1)]\n",
    "    wl[0][0] = False\n",
    "\n",
    "\n",
    "    for i in range(n + 1):\n",
    "        for j in range(m + 1):\n",
    "            if i == 0 and j == 0:\n",
    "                continue\n",
    "            \n",
    "            if i > 0 and not wl[i - 1][j]:\n",
    "                wl[i][j] = True\n",
    "            elif j > 0 and not wl[i][j - 1]:\n",
    "                wl[i][j] = True\n",
    "            elif i > 0 and j > 0 and not wl[i - 1][j - 1]:\n",
    "                wl[i][j] = True\n",
    "\n",
    "    return wl[n][m], wl\n",
    "\n",
    "can_petya_win(3, 5)\n"
   ]
  },
  {
   "cell_type": "markdown",
   "metadata": {},
   "source": [
    "Задача 3. Ханойские башни."
   ]
  },
  {
   "cell_type": "code",
   "execution_count": 26,
   "metadata": {},
   "outputs": [
    {
     "name": "stdout",
     "output_type": "stream",
     "text": [
      "Переместить диск 1 с A на C\n",
      "Переместить диск 2 с A на B\n",
      "Переместить диск 1 с C на B\n",
      "Переместить диск 3 с A на C\n",
      "Переместить диск 1 с B на A\n",
      "Переместить диск 2 с B на C\n",
      "Переместить диск 1 с A на C\n"
     ]
    }
   ],
   "source": [
    "def hanoi_towers(n, from_rod, to_rod, aux_rod):\n",
    "    if n == 1:\n",
    "        print(f\"Переместить диск 1 с {from_rod} на {to_rod}\")\n",
    "        return\n",
    "    hanoi_towers(n-1, from_rod, aux_rod, to_rod)\n",
    "    print(f\"Переместить диск {n} с {from_rod} на {to_rod}\")\n",
    "    hanoi_towers(n-1, aux_rod, to_rod, from_rod)\n",
    "\n",
    "hanoi_towers(3, 'A', 'C', 'B')\n"
   ]
  },
  {
   "cell_type": "markdown",
   "metadata": {},
   "source": [
    "Задача 4. Найти обьем шара методом Монте-Карло"
   ]
  },
  {
   "cell_type": "code",
   "execution_count": 27,
   "metadata": {},
   "outputs": [
    {
     "data": {
      "text/plain": [
       "4.187296"
      ]
     },
     "execution_count": 27,
     "metadata": {},
     "output_type": "execute_result"
    }
   ],
   "source": [
    "import numpy as np\n",
    "\n",
    "def monte_carlo_sphere_volume(radius, num_points):\n",
    "    \n",
    "    points = np.random.uniform(-1, 1, (num_points, 3))\n",
    "\n",
    "    points_inside_sphere = np.sum(np.linalg.norm(points, axis=1) <= radius)\n",
    "\n",
    "    cube_volume = (2 * radius) ** 3\n",
    "\n",
    "    sphere_volume = cube_volume * points_inside_sphere / num_points\n",
    "\n",
    "    return sphere_volume\n",
    "\n",
    "radius = 1\n",
    "num_points = 10000000\n",
    "\n",
    "\n",
    "estimated_volume = monte_carlo_sphere_volume(radius, num_points)\n",
    "estimated_volume\n"
   ]
  },
  {
   "cell_type": "code",
   "execution_count": 28,
   "metadata": {},
   "outputs": [
    {
     "name": "stdout",
     "output_type": "stream",
     "text": [
      "Объем шара с помощью метода Монте-Карло:\n",
      "4.1882712\n",
      "Теоретический объем шара:\n",
      "4.1887902047863905\n",
      "Время выполнения:\n",
      "0.44855666160583496\n",
      "Разница между теоретическим и полученным значением:\n",
      "0.0005190047863905534\n"
     ]
    }
   ],
   "source": [
    "import time\n",
    "\n",
    "start_time = time.time()\n",
    "estimated_volume = monte_carlo_sphere_volume(radius, num_points)\n",
    "end_time = time.time()\n",
    "execution_time = end_time - start_time\n",
    "theoretical_volume = 4/3 * np.pi * radius**3\n",
    "error = abs(estimated_volume - theoretical_volume)\n",
    "\n",
    "print(\"Объем шара с помощью метода Монте-Карло:\", estimated_volume, \"Теоретический объем шара:\", theoretical_volume, \"Время выполнения:\", execution_time, \"Разница между теоретическим и полученным значением:\", error, sep = '\\n')"
   ]
  },
  {
   "cell_type": "code",
   "execution_count": 29,
   "metadata": {},
   "outputs": [
    {
     "name": "stdout",
     "output_type": "stream",
     "text": [
      "Объем шара с помощью метода Монте-Карло:\n",
      "1.0\n",
      "Теоретический объем шара:\n",
      "4.1887902047863905\n",
      "Время выполнения:\n",
      "0.44844579696655273\n",
      "Разница между теоретическим и полученным значением:\n",
      "3.1887902047863905\n"
     ]
    }
   ],
   "source": [
    "def monte_carlo_sphere_volume_in_truncated_cube(radius, num_points, cube_limit):\n",
    "    points = np.random.uniform(-cube_limit, cube_limit, (num_points, 3))\n",
    "    points_inside_sphere = np.sum(np.linalg.norm(points, axis=1) <= radius)\n",
    "    truncated_cube_volume = (2 * cube_limit) ** 3\n",
    "    sphere_volume_in_truncated_cube = truncated_cube_volume * points_inside_sphere / num_points\n",
    "\n",
    "    return sphere_volume_in_truncated_cube\n",
    "start_time = time.time()\n",
    "cube_limit = 0.5\n",
    "estimated_volume_in_truncated_cube = monte_carlo_sphere_volume_in_truncated_cube(radius, num_points, cube_limit)\n",
    "end_time = time.time()\n",
    "execution_time_in_truncated_cube = end_time - start_time\n",
    "theoretical_volume_in_truncated_cube = 4/3 * np.pi * radius**3\n",
    "error_in_truncated_cube = abs(estimated_volume_in_truncated_cube - theoretical_volume_in_truncated_cube)\n",
    "\n",
    "print(\"Объем шара с помощью метода Монте-Карло:\", estimated_volume_in_truncated_cube, \"Теоретический объем шара:\", theoretical_volume_in_truncated_cube, \"Время выполнения:\", execution_time_in_truncated_cube, \"Разница между теоретическим и полученным значением:\", error_in_truncated_cube, sep = '\\n')"
   ]
  },
  {
   "cell_type": "code",
   "execution_count": 32,
   "metadata": {},
   "outputs": [
    {
     "name": "stdout",
     "output_type": "stream",
     "text": [
      "Проверка работы метода Монте-Карло на сетке [-1,1]^3\n",
      "Запуск  с параметром: 1000\n",
      "result: 4.008\n",
      "time: 0.0\n",
      "\n",
      "Запуск  с параметром: 10000\n",
      "result: 4.2392\n",
      "time: 0.010727405548095703\n",
      "\n",
      "Проверка работы метода Монте-Карло некотором усеченном пространстве\n",
      "Запуск  с параметром: 1000\n",
      "результат: 4.2\n",
      "time: 0.004173755645751953\n",
      "\n",
      "Запуск  с параметром: 10000\n",
      "результат: 4.1984\n",
      "time: 0.001569509506225586\n",
      "\n"
     ]
    }
   ],
   "source": [
    "import random\n",
    "import time\n",
    "import math\n",
    "\n",
    "\n",
    "def func_param(n=1_000, a=None, b=None):\n",
    "    def decorator(func):\n",
    "        nonlocal n\n",
    "        for _ in range(2):\n",
    "            print(\"Запуск  с параметром:\", n)\n",
    "            start = time.time()\n",
    "            if a and b:\n",
    "                func(n, a, b)\n",
    "            else:\n",
    "                func(n)\n",
    "            end = time.time() - start\n",
    "            print(\"time:\", end, end=\"\\n\\n\")\n",
    "            n *= 10\n",
    "\n",
    "    return decorator\n",
    "\n",
    "\n",
    "def mntk(n: int):\n",
    "    count = 0\n",
    "    for _ in range(n):\n",
    "        x, y, z = random.uniform(-1, 1), random.uniform(-1, 1), random.uniform(-1, 1)\n",
    "        if x ** 2 + y ** 2 + z ** 2 <= 1:\n",
    "            count += 1\n",
    "    print('result:', count * 8 / n)\n",
    "\n",
    "\n",
    "print(\"Проверка работы метода Монте-Карло на сетке [-1,1]^3\")\n",
    "test_mntk = func_param(1000)\n",
    "test_mntk(mntk)\n",
    "\n",
    "\n",
    "def mntk_rest(n, a, b):\n",
    "    count = 0\n",
    "    for i in range(n):\n",
    "        x, y, z = random.uniform(0, 1), random.uniform(0, 1), random.uniform(0, 1)\n",
    "        if x ** 2 + y ** 2 + z ** 2 <= math.sqrt((-1 + a) ** 2 + (1 + b) ** 2):\n",
    "            count += 1\n",
    "    print('результат:', count * 8 / n)\n",
    "\n",
    "\n",
    "print(\"Проверка работы метода Монте-Карло некотором усеченном пространстве\")\n",
    "test_mntk = func_param(1000, a=0.3, b=-0.3)\n",
    "test_mntk(mntk_rest)\n"
   ]
  }
 ],
 "metadata": {
  "kernelspec": {
   "display_name": "Python 3",
   "language": "python",
   "name": "python3"
  },
  "language_info": {
   "codemirror_mode": {
    "name": "ipython",
    "version": 3
   },
   "file_extension": ".py",
   "mimetype": "text/x-python",
   "name": "python",
   "nbconvert_exporter": "python",
   "pygments_lexer": "ipython3",
   "version": "3.11.7"
  }
 },
 "nbformat": 4,
 "nbformat_minor": 2
}
