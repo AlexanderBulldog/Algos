{
 "cells": [
  {
   "cell_type": "code",
   "execution_count": 5,
   "metadata": {},
   "outputs": [
    {
     "data": {
      "text/plain": [
       "[1, 15, 10, 12, 2, 8, 3, 13, 4, 9]"
      ]
     },
     "execution_count": 5,
     "metadata": {},
     "output_type": "execute_result"
    }
   ],
   "source": [
    "def sort_by_remainder(arr):\n",
    "    # Инициализация пяти указателей для пяти возможных остатков.\n",
    "    # Они будут отслеживать позиции вставки для каждого остатка.\n",
    "    next_pos = [0] * 5\n",
    "\n",
    "    i = 0\n",
    "    while i < len(arr):\n",
    "        # Вычисляем остаток текущего элемента\n",
    "        remainder = arr[i] % 5\n",
    "\n",
    "        # Если элемент уже в правильном блоке, увеличиваем индекс\n",
    "        if i >= next_pos[remainder] and i < next_pos[remainder] + len(arr) // 5:\n",
    "            next_pos[remainder] += 1\n",
    "            i += 1\n",
    "        else:\n",
    "            # Находим следующую позицию для вставки этого остатка\n",
    "            swap_index = next_pos[remainder]\n",
    "\n",
    "            # Обмен элементов\n",
    "            arr[i], arr[swap_index] = arr[swap_index], arr[i]\n",
    "\n",
    "            # Обновляем следующую позицию для этого остатка\n",
    "            next_pos[remainder] += 1\n",
    "    return arr\n",
    "\n",
    "# Тестирование алгоритма на произвольном массиве\n",
    "test_array = [12, 9, 13, 4, 10, 8, 15, 1, 3, 2]\n",
    "sorted_array = sort_by_remainder(test_array)\n",
    "sorted_array\n"
   ]
  },
  {
   "cell_type": "code",
   "execution_count": 6,
   "metadata": {},
   "outputs": [
    {
     "data": {
      "text/plain": [
       "2"
      ]
     },
     "execution_count": 6,
     "metadata": {},
     "output_type": "execute_result"
    }
   ],
   "source": [
    "def find_celebrity(matrix):\n",
    "    n = len(matrix)\n",
    "    # Step 1: Initialize two pointers\n",
    "    a = 0\n",
    "    b = n - 1\n",
    "\n",
    "    # Step 2: Find the potential celebrity\n",
    "    while a < b:\n",
    "        if matrix[a][b]:\n",
    "            # If a knows b, then a can't be the celebrity\n",
    "            a += 1\n",
    "        else:\n",
    "            # If a doesn't know b, then b can't be the celebrity\n",
    "            b -= 1\n",
    "\n",
    "    # At this point, a is the potential celebrity\n",
    "    # Step 3: Check if a is the celebrity by checking the rows and columns\n",
    "    for i in range(n):\n",
    "        # The potential celebrity should not know anyone else, and everyone should know the celebrity\n",
    "        if i != a and (matrix[a][i] == 1 or matrix[i][a] == 0):\n",
    "            return -1  # a is not the celebrity\n",
    "\n",
    "    return a  # a is the celebrity\n",
    "\n",
    "# Example matrix (The celebrity is the third person)\n",
    "example_matrix = [\n",
    "    [0, 1, 1],\n",
    "    [0, 0, 1],\n",
    "    [0, 0, 0]\n",
    "]\n",
    "\n",
    "# Find the celebrity\n",
    "find_celebrity(example_matrix)\n"
   ]
  }
 ],
 "metadata": {
  "kernelspec": {
   "display_name": "Python 3",
   "language": "python",
   "name": "python3"
  },
  "language_info": {
   "codemirror_mode": {
    "name": "ipython",
    "version": 3
   },
   "file_extension": ".py",
   "mimetype": "text/x-python",
   "name": "python",
   "nbconvert_exporter": "python",
   "pygments_lexer": "ipython3",
   "version": "3.11.7"
  }
 },
 "nbformat": 4,
 "nbformat_minor": 2
}
